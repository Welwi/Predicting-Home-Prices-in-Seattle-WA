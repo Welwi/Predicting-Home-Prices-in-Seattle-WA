{
 "cells": [
  {
   "cell_type": "markdown",
   "metadata": {},
   "source": [
    "# Introduction\n",
    "\n",
    "This notebook builds a general GAM model, and then attempts to build a specific GAM model for each of the zip codes. We keep the zip code GAM model if it is better than the general GAM model over all the zip codes. At the end we remove all the zip codes for which we have a better model from the general GAM model, and then we then train the general GAM model with the zip codes for which we have better models excluded."
   ]
  },
  {
   "cell_type": "code",
   "execution_count": 1,
   "metadata": {},
   "outputs": [],
   "source": [
    "import pandas as pd\n",
    "import numpy as np\n",
    "import matplotlib.pyplot as plt\n",
    "import seaborn as sns\n",
    "%matplotlib inline\n",
    "\n",
    "from sklearn.linear_model import LinearRegression, Lasso, Ridge\n",
    "from sklearn.preprocessing import PolynomialFeatures, RobustScaler\n",
    "from sklearn.model_selection import cross_val_score\n",
    "from sklearn.pipeline import Pipeline, make_pipeline\n",
    "\n",
    "from sklearn.ensemble import BaggingRegressor\n",
    "from sklearn.model_selection import cross_validate, cross_val_predict\n",
    "from pyearth import Earth\n",
    "from pygam import LinearGAM, GAM, f, s, te\n",
    "\n",
    "from sklearn.model_selection import train_test_split\n",
    "from sklearn.metrics import r2_score, mean_absolute_error, mean_squared_error\n",
    "\n",
    "import gc; gc.enable()\n",
    "\n",
    "import warnings\n",
    "warnings.filterwarnings(\"ignore\")"
   ]
  },
  {
   "cell_type": "code",
   "execution_count": 2,
   "metadata": {},
   "outputs": [
    {
     "data": {
      "application/javascript": [
       "IPython.OutputArea.prototype._should_scroll = function(lines) {\n",
       "    return false;\n",
       "}\n"
      ],
      "text/plain": [
       "<IPython.core.display.Javascript object>"
      ]
     },
     "metadata": {},
     "output_type": "display_data"
    }
   ],
   "source": [
    "%%javascript\n",
    "IPython.OutputArea.prototype._should_scroll = function(lines) {\n",
    "    return false;\n",
    "}"
   ]
  },
  {
   "cell_type": "markdown",
   "metadata": {},
   "source": [
    "# Read and Process the Data\n",
    "\n",
    "Read in the housing data from the CSV file and split it into the training and test sets."
   ]
  },
  {
   "cell_type": "code",
   "execution_count": 3,
   "metadata": {},
   "outputs": [
    {
     "data": {
      "text/html": [
       "<div>\n",
       "<style scoped>\n",
       "    .dataframe tbody tr th:only-of-type {\n",
       "        vertical-align: middle;\n",
       "    }\n",
       "\n",
       "    .dataframe tbody tr th {\n",
       "        vertical-align: top;\n",
       "    }\n",
       "\n",
       "    .dataframe thead th {\n",
       "        text-align: right;\n",
       "    }\n",
       "</style>\n",
       "<table border=\"1\" class=\"dataframe\">\n",
       "  <thead>\n",
       "    <tr style=\"text-align: right;\">\n",
       "      <th></th>\n",
       "      <th>date</th>\n",
       "      <th>price</th>\n",
       "      <th>bedrooms</th>\n",
       "      <th>bathrooms</th>\n",
       "      <th>sqft_living</th>\n",
       "      <th>sqft_lot</th>\n",
       "      <th>floors</th>\n",
       "      <th>waterfront</th>\n",
       "      <th>view</th>\n",
       "      <th>condition</th>\n",
       "      <th>...</th>\n",
       "      <th>zipcode</th>\n",
       "      <th>lat</th>\n",
       "      <th>long</th>\n",
       "      <th>sqft_living15</th>\n",
       "      <th>sqft_lot15</th>\n",
       "      <th>waterfront_null</th>\n",
       "      <th>waterfront_ind</th>\n",
       "      <th>yr_renovated_scheme1</th>\n",
       "      <th>yr_renovated_null</th>\n",
       "      <th>yr_renovated_ind</th>\n",
       "    </tr>\n",
       "    <tr>\n",
       "      <th>id</th>\n",
       "      <th></th>\n",
       "      <th></th>\n",
       "      <th></th>\n",
       "      <th></th>\n",
       "      <th></th>\n",
       "      <th></th>\n",
       "      <th></th>\n",
       "      <th></th>\n",
       "      <th></th>\n",
       "      <th></th>\n",
       "      <th></th>\n",
       "      <th></th>\n",
       "      <th></th>\n",
       "      <th></th>\n",
       "      <th></th>\n",
       "      <th></th>\n",
       "      <th></th>\n",
       "      <th></th>\n",
       "      <th></th>\n",
       "      <th></th>\n",
       "      <th></th>\n",
       "    </tr>\n",
       "  </thead>\n",
       "  <tbody>\n",
       "    <tr>\n",
       "      <th>7129300520</th>\n",
       "      <td>10/13/2014</td>\n",
       "      <td>221900.0</td>\n",
       "      <td>3</td>\n",
       "      <td>1.00</td>\n",
       "      <td>1180</td>\n",
       "      <td>5650</td>\n",
       "      <td>1.0</td>\n",
       "      <td>1.0</td>\n",
       "      <td>0.0</td>\n",
       "      <td>3</td>\n",
       "      <td>...</td>\n",
       "      <td>98178</td>\n",
       "      <td>47.5112</td>\n",
       "      <td>-122.257</td>\n",
       "      <td>1340</td>\n",
       "      <td>5650</td>\n",
       "      <td>1</td>\n",
       "      <td>0</td>\n",
       "      <td>0</td>\n",
       "      <td>0</td>\n",
       "      <td>0</td>\n",
       "    </tr>\n",
       "    <tr>\n",
       "      <th>6414100192</th>\n",
       "      <td>12/9/2014</td>\n",
       "      <td>538000.0</td>\n",
       "      <td>3</td>\n",
       "      <td>2.25</td>\n",
       "      <td>2570</td>\n",
       "      <td>7242</td>\n",
       "      <td>2.0</td>\n",
       "      <td>0.0</td>\n",
       "      <td>0.0</td>\n",
       "      <td>3</td>\n",
       "      <td>...</td>\n",
       "      <td>98125</td>\n",
       "      <td>47.7210</td>\n",
       "      <td>-122.319</td>\n",
       "      <td>1690</td>\n",
       "      <td>7639</td>\n",
       "      <td>0</td>\n",
       "      <td>0</td>\n",
       "      <td>2</td>\n",
       "      <td>0</td>\n",
       "      <td>1</td>\n",
       "    </tr>\n",
       "  </tbody>\n",
       "</table>\n",
       "<p>2 rows × 24 columns</p>\n",
       "</div>"
      ],
      "text/plain": [
       "                  date     price  bedrooms  bathrooms  sqft_living  sqft_lot  \\\n",
       "id                                                                             \n",
       "7129300520  10/13/2014  221900.0         3       1.00         1180      5650   \n",
       "6414100192   12/9/2014  538000.0         3       2.25         2570      7242   \n",
       "\n",
       "            floors  waterfront  view  condition  ...  zipcode      lat  \\\n",
       "id                                               ...                     \n",
       "7129300520     1.0         1.0   0.0          3  ...    98178  47.5112   \n",
       "6414100192     2.0         0.0   0.0          3  ...    98125  47.7210   \n",
       "\n",
       "               long  sqft_living15  sqft_lot15  waterfront_null  \\\n",
       "id                                                                \n",
       "7129300520 -122.257           1340        5650                1   \n",
       "6414100192 -122.319           1690        7639                0   \n",
       "\n",
       "            waterfront_ind  yr_renovated_scheme1  yr_renovated_null  \\\n",
       "id                                                                    \n",
       "7129300520               0                     0                  0   \n",
       "6414100192               0                     2                  0   \n",
       "\n",
       "            yr_renovated_ind  \n",
       "id                            \n",
       "7129300520                 0  \n",
       "6414100192                 1  \n",
       "\n",
       "[2 rows x 24 columns]"
      ]
     },
     "execution_count": 3,
     "metadata": {},
     "output_type": "execute_result"
    }
   ],
   "source": [
    "df = pd.read_csv('kc_house_data_clean.csv', index_col=0)\n",
    "df.head(2)"
   ]
  },
  {
   "cell_type": "code",
   "execution_count": 4,
   "metadata": {},
   "outputs": [
    {
     "data": {
      "text/plain": [
       "array([[-1.22257e+02,  4.75112e+01,  1.18000e+03, ...,  1.00000e+00,\n",
       "         5.65000e+03,  9.81780e+04],\n",
       "       [-1.22319e+02,  4.77210e+01,  2.57000e+03, ...,  2.00000e+00,\n",
       "         7.24200e+03,  9.81250e+04],\n",
       "       [-1.22233e+02,  4.77379e+01,  7.70000e+02, ...,  1.00000e+00,\n",
       "         1.00000e+04,  9.80280e+04],\n",
       "       ...,\n",
       "       [-1.22299e+02,  4.75944e+01,  1.02000e+03, ...,  2.00000e+00,\n",
       "         1.35000e+03,  9.81440e+04],\n",
       "       [-1.22069e+02,  4.75345e+01,  1.60000e+03, ...,  2.00000e+00,\n",
       "         2.38800e+03,  9.80270e+04],\n",
       "       [-1.22299e+02,  4.75941e+01,  1.02000e+03, ...,  2.00000e+00,\n",
       "         1.07600e+03,  9.81440e+04]])"
      ]
     },
     "metadata": {},
     "output_type": "display_data"
    },
    {
     "data": {
      "text/plain": [
       "array([221900., 538000., 180000., ..., 402101., 400000., 325000.])"
      ]
     },
     "metadata": {},
     "output_type": "display_data"
    }
   ],
   "source": [
    "X = df[['long',                     #  0\n",
    "        'lat',                      #  1\n",
    "        'sqft_living',              #  2\n",
    "        'grade',                    #  3\n",
    "        'bathrooms',                #  4\n",
    "        'condition',                #  5\n",
    "        'waterfront',               #  6\n",
    "        'yr_renovated_scheme1',     #  7\n",
    "        'floors',                   #  8\n",
    "        'sqft_lot',                 #  9\n",
    "        'zipcode']].values          # 10\n",
    "y = df['price'].values\n",
    "\n",
    "display(X)\n",
    "display(y)"
   ]
  },
  {
   "cell_type": "code",
   "execution_count": 5,
   "metadata": {},
   "outputs": [],
   "source": [
    "X_train, X_test, y_train, y_test = train_test_split(X, y, test_size=0.10, random_state=42)"
   ]
  },
  {
   "cell_type": "markdown",
   "metadata": {},
   "source": [
    "# Build General Model\n",
    "\n",
    "Create a general GAMN model for all the zip codes, print a summary, and then print summary statistics."
   ]
  },
  {
   "cell_type": "code",
   "execution_count": 6,
   "metadata": {},
   "outputs": [],
   "source": [
    "gam=GAM(n_splines=40, \n",
    "        terms=s(2)+s(3)+s(4)+s(5)+s(6)+s(7)+s(8)+s(9)+s(10)+te(0,1)+te(2,9),\n",
    "        distribution = 'gamma', link='log').fit(X_train,y_train)"
   ]
  },
  {
   "cell_type": "code",
   "execution_count": 7,
   "metadata": {},
   "outputs": [
    {
     "name": "stdout",
     "output_type": "stream",
     "text": [
      "GAM                                                                                                       \n",
      "=============================================== ==========================================================\n",
      "Distribution:                         GammaDist Effective DoF:                                    440.4634\n",
      "Link Function:                          LogLink Log Likelihood:                               -242051.8776\n",
      "Number of Samples:                        19110 AIC:                                           484986.6819\n",
      "                                                AICc:                                          485007.6092\n",
      "                                                GCV:                                                0.0288\n",
      "                                                Scale:                                              0.0281\n",
      "                                                Pseudo R-Squared:                                   0.9116\n",
      "==========================================================================================================\n",
      "Feature Function                  Lambda               Rank         EDoF         P > x        Sig. Code   \n",
      "================================= ==================== ============ ============ ============ ============\n",
      "s(2)                              [0.6]                40           25.9         8.61e-07     ***         \n",
      "s(3)                              [0.6]                40           10.6         1.11e-16     ***         \n",
      "s(4)                              [0.6]                40           21.0         1.11e-16     ***         \n",
      "s(5)                              [0.6]                40           4.6          1.11e-16     ***         \n",
      "s(6)                              [0.6]                40           2.8          1.11e-16     ***         \n",
      "s(7)                              [0.6]                40           2.7          1.11e-16     ***         \n",
      "s(8)                              [0.6]                40           5.8          1.11e-16     ***         \n",
      "s(9)                              [0.6]                40           18.6         1.11e-16     ***         \n",
      "s(10)                             [0.6]                40           35.6         6.66e-15     ***         \n",
      "te(0, 1)                          [0.6 0.6]            1600         295.1        1.11e-16     ***         \n",
      "te(2, 9)                          [0.6 0.6]            1600         17.8         1.11e-16     ***         \n",
      "intercept                                              1            0.0          1.11e-16     ***         \n",
      "==========================================================================================================\n",
      "Significance codes:  0 '***' 0.001 '**' 0.01 '*' 0.05 '.' 0.1 ' ' 1\n",
      "\n",
      "WARNING: Fitting splines and a linear function to a feature introduces a model identifiability problem\n",
      "         which can cause p-values to appear significant when they are not.\n",
      "\n",
      "WARNING: p-values calculated in this manner behave correctly for un-penalized models or models with\n",
      "         known smoothing parameters, but when smoothing parameters have been estimated, the p-values\n",
      "         are typically lower than they should be, meaning that the tests reject the null too readily.\n"
     ]
    }
   ],
   "source": [
    "gam.summary()"
   ]
  },
  {
   "cell_type": "code",
   "execution_count": 8,
   "metadata": {},
   "outputs": [
    {
     "name": "stdout",
     "output_type": "stream",
     "text": [
      "R^2: 0.8749187619624116\n",
      "MAE: 65954.74653300311\n",
      "RMSE: 120143.50873393411\n"
     ]
    }
   ],
   "source": [
    "y_pred = gam.predict(X_test)\n",
    "\n",
    "print(\"R^2:\", r2_score(y_test, y_pred))\n",
    "print(\"MAE:\", mean_absolute_error(y_test, y_pred))\n",
    "print(\"RMSE:\", np.sqrt(mean_squared_error(y_test, y_pred)))\n"
   ]
  },
  {
   "cell_type": "code",
   "execution_count": 9,
   "metadata": {},
   "outputs": [
    {
     "name": "stdout",
     "output_type": "stream",
     "text": [
      "Total: 2124 \n",
      "Over: 1054 \n",
      "Under: 1070\n"
     ]
    }
   ],
   "source": [
    "over_or_under = y_test - y_pred\n",
    "total = len(over_or_under)\n",
    "over  = len(over_or_under[over_or_under <  0])\n",
    "under = len(over_or_under[over_or_under >= 0])\n",
    "\n",
    "print(\"Total:\", total, \"\\nOver:\", over, \"\\nUnder:\", under)"
   ]
  },
  {
   "cell_type": "markdown",
   "metadata": {},
   "source": [
    "# ZIP Codes\n",
    "\n",
    "The cells below show how many different the number of records per ZIP code. They are ordered from highest count to lowest count."
   ]
  },
  {
   "cell_type": "code",
   "execution_count": 10,
   "metadata": {},
   "outputs": [],
   "source": [
    "pd.set_option('display.max_rows', 500)"
   ]
  },
  {
   "cell_type": "code",
   "execution_count": 11,
   "metadata": {},
   "outputs": [
    {
     "data": {
      "text/plain": [
       "zipcode\n",
       "98103    600\n",
       "98038    586\n",
       "98115    580\n",
       "98052    573\n",
       "98117    553\n",
       "98042    545\n",
       "98034    545\n",
       "98118    505\n",
       "98006    497\n",
       "98023    495\n",
       "98133    492\n",
       "98059    468\n",
       "98058    454\n",
       "98155    445\n",
       "98074    440\n",
       "98033    432\n",
       "98027    409\n",
       "98125    407\n",
       "98056    403\n",
       "98053    402\n",
       "98001    359\n",
       "98075    359\n",
       "98126    353\n",
       "98092    349\n",
       "98144    341\n",
       "98106    335\n",
       "98116    328\n",
       "98029    321\n",
       "98004    316\n",
       "98199    316\n",
       "98122    289\n",
       "98146    287\n",
       "98008    283\n",
       "98028    282\n",
       "98003    280\n",
       "98040    279\n",
       "98198    278\n",
       "98031    273\n",
       "98072    271\n",
       "98168    268\n",
       "98055    268\n",
       "98112    268\n",
       "98107    266\n",
       "98178    262\n",
       "98136    260\n",
       "98030    256\n",
       "98177    254\n",
       "98166    253\n",
       "98065    246\n",
       "98022    231\n",
       "98105    229\n",
       "98002    199\n",
       "98077    198\n",
       "98011    194\n",
       "98019    188\n",
       "98108    186\n",
       "98119    184\n",
       "98005    168\n",
       "98007    141\n",
       "98188    136\n",
       "98032    124\n",
       "98070    117\n",
       "98014    110\n",
       "98109    109\n",
       "98102    104\n",
       "98010    100\n",
       "98024     78\n",
       "98148     57\n",
       "98039     50\n",
       "dtype: int64"
      ]
     },
     "execution_count": 11,
     "metadata": {},
     "output_type": "execute_result"
    }
   ],
   "source": [
    "df.groupby(['zipcode']).size().sort_values(ascending=False)"
   ]
  },
  {
   "cell_type": "markdown",
   "metadata": {},
   "source": [
    "# Model Dictionary\n",
    "\n",
    "To store the ZIP code models, we will use a dictionary. The dictionary will have an entry for each ZIP code. Each entry is set to None, to indicate that the default (general) GAM model is better."
   ]
  },
  {
   "cell_type": "code",
   "execution_count": 12,
   "metadata": {},
   "outputs": [],
   "source": [
    "model_dict = {}\n",
    "for zipcode in df.zipcode.unique().tolist():\n",
    "    model_dict[zipcode] = None"
   ]
  },
  {
   "cell_type": "code",
   "execution_count": 13,
   "metadata": {},
   "outputs": [
    {
     "data": {
      "text/plain": [
       "69"
      ]
     },
     "execution_count": 13,
     "metadata": {},
     "output_type": "execute_result"
    }
   ],
   "source": [
    "len(model_dict)"
   ]
  },
  {
   "cell_type": "markdown",
   "metadata": {},
   "source": [
    "# Building ZIP Specific Models\n",
    "\n",
    "The cell below is the work horse and builds for each ZIP code a set of different GAM models to see which one is best by test diffent n_splines values. It then takes the best model for each ZIP code, and compares that against the R^2 value of the general GAM model. If it is better, it will then store the ZIP specific model in the `model_dict` dictionary."
   ]
  },
  {
   "cell_type": "code",
   "execution_count": 15,
   "metadata": {},
   "outputs": [
    {
     "name": "stdout",
     "output_type": "stream",
     "text": [
      "processing zip code: 98178\n",
      "   successfully trained model with 236 rows.\n",
      "   best r2 score for zip code= 0.793819941970151 r2_threshold= 0.8671124512126286 test rows= 26\n",
      "processing zip code: 98125\n",
      "   successfully trained model with 368 rows.\n",
      "   best r2 score for zip code= 0.7303836856936833 r2_threshold= 0.8671124512126286 test rows= 39\n",
      "processing zip code: 98028\n",
      "   successfully trained model with 249 rows.\n",
      "   best r2 score for zip code= 0.5817469962775501 r2_threshold= 0.8671124512126286 test rows= 33\n",
      "processing zip code: 98136\n",
      "   successfully trained model with 235 rows.\n",
      "   best r2 score for zip code= 0.837302769936436 r2_threshold= 0.8671124512126286 test rows= 25\n",
      "processing zip code: 98074\n",
      "   successfully trained model with 391 rows.\n",
      "   best r2 score for zip code= 0.6630120723555524 r2_threshold= 0.8671124512126286 test rows= 49\n",
      "processing zip code: 98053\n",
      "   successfully trained model with 378 rows.\n",
      "   best r2 score for zip code= 0.9003504481498624 r2_threshold= 0.8671124512126286 test rows= 24\n",
      "*** found better model for zip code 98053 !\n",
      "processing zip code: 98003\n",
      "   successfully trained model with 255 rows.\n",
      "   best r2 score for zip code= 0.7050986539363151 r2_threshold= 0.8671124512126286 test rows= 25\n",
      "processing zip code: 98146\n",
      "   successfully trained model with 253 rows.\n",
      "   best r2 score for zip code= 0.8279816655458073 r2_threshold= 0.8671124512126286 test rows= 34\n",
      "processing zip code: 98038\n",
      "   successfully trained model with 535 rows.\n",
      "   best r2 score for zip code= 0.7806861453542167 r2_threshold= 0.8671124512126286 test rows= 51\n",
      "processing zip code: 98007\n",
      "   successfully trained model with 127 rows.\n",
      "   best r2 score for zip code= 0.6215032821576498 r2_threshold= 0.8671124512126286 test rows= 14\n",
      "processing zip code: 98115\n",
      "   successfully trained model with 509 rows.\n",
      "   best r2 score for zip code= 0.8813015548492761 r2_threshold= 0.8671124512126286 test rows= 71\n",
      "*** found better model for zip code 98115 !\n",
      "processing zip code: 98107\n",
      "did not converge\n",
      "   successfully trained model with 242 rows.\n",
      "   best r2 score for zip code= 0.7428964799540181 r2_threshold= 0.8671124512126286 test rows= 24\n",
      "processing zip code: 98126\n",
      "   successfully trained model with 319 rows.\n",
      "   best r2 score for zip code= 0.8929008839048537 r2_threshold= 0.8671124512126286 test rows= 34\n",
      "*** found better model for zip code 98126 !\n",
      "processing zip code: 98019\n",
      "   successfully trained model with 158 rows.\n",
      "   best r2 score for zip code= 0.8792549093960619 r2_threshold= 0.8671124512126286 test rows= 30\n",
      "*** found better model for zip code 98019 !\n",
      "processing zip code: 98103\n",
      "   successfully trained model with 544 rows.\n",
      "   best r2 score for zip code= 0.7956481860407936 r2_threshold= 0.8671124512126286 test rows= 56\n",
      "processing zip code: 98002\n",
      "   successfully trained model with 177 rows.\n",
      "   best r2 score for zip code= 0.782363392409301 r2_threshold= 0.8671124512126286 test rows= 22\n",
      "processing zip code: 98133\n",
      "   successfully trained model with 444 rows.\n",
      "   best r2 score for zip code= 0.5412696952871933 r2_threshold= 0.8671124512126286 test rows= 48\n",
      "processing zip code: 98040\n",
      "   successfully trained model with 242 rows.\n",
      "   best r2 score for zip code= 0.43703997904883074 r2_threshold= 0.8671124512126286 test rows= 37\n",
      "processing zip code: 98092\n",
      "   successfully trained model with 313 rows.\n",
      "   best r2 score for zip code= 0.8678001670214768 r2_threshold= 0.8671124512126286 test rows= 36\n",
      "*** found better model for zip code 98092 !\n",
      "processing zip code: 98030\n",
      "   successfully trained model with 224 rows.\n",
      "   best r2 score for zip code= 0.8151881677768872 r2_threshold= 0.8671124512126286 test rows= 32\n",
      "processing zip code: 98119\n",
      "   successfully trained model with 167 rows.\n",
      "   best r2 score for zip code= 0.9429963528097396 r2_threshold= 0.8671124512126286 test rows= 17\n",
      "*** found better model for zip code 98119 !\n",
      "processing zip code: 98112\n",
      "   successfully trained model with 244 rows.\n",
      "   best r2 score for zip code= 0.9174237839496835 r2_threshold= 0.8671124512126286 test rows= 24\n",
      "*** found better model for zip code 98112 !\n",
      "processing zip code: 98052\n",
      "   successfully trained model with 505 rows.\n",
      "   best r2 score for zip code= 0.8784079263098243 r2_threshold= 0.8671124512126286 test rows= 68\n",
      "*** found better model for zip code 98052 !\n",
      "processing zip code: 98027\n",
      "   successfully trained model with 371 rows.\n",
      "   best r2 score for zip code= 0.9135884899185233 r2_threshold= 0.8671124512126286 test rows= 38\n",
      "*** found better model for zip code 98027 !\n",
      "processing zip code: 98117\n",
      "   successfully trained model with 507 rows.\n",
      "   best r2 score for zip code= 0.8175879698002699 r2_threshold= 0.8671124512126286 test rows= 46\n",
      "processing zip code: 98058\n",
      "   successfully trained model with 407 rows.\n",
      "   best r2 score for zip code= 0.8805869132545482 r2_threshold= 0.8671124512126286 test rows= 47\n",
      "*** found better model for zip code 98058 !\n",
      "processing zip code: 98001\n",
      "   successfully trained model with 334 rows.\n",
      "   best r2 score for zip code= 0.8247168319581912 r2_threshold= 0.8671124512126286 test rows= 25\n",
      "processing zip code: 98056\n",
      "   successfully trained model with 366 rows.\n",
      "   best r2 score for zip code= 0.9003777113679862 r2_threshold= 0.8671124512126286 test rows= 37\n",
      "*** found better model for zip code 98056 !\n",
      "processing zip code: 98166\n",
      "   successfully trained model with 228 rows.\n",
      "   best r2 score for zip code= 0.6340055313785133 r2_threshold= 0.8671124512126286 test rows= 25\n",
      "processing zip code: 98023\n",
      "   successfully trained model with 447 rows.\n",
      "   best r2 score for zip code= 0.8380662515743746 r2_threshold= 0.8671124512126286 test rows= 48\n",
      "processing zip code: 98070\n",
      "   successfully trained model with 107 rows.\n",
      "   best r2 score for zip code= 0.7550867690641622 r2_threshold= 0.8671124512126286 test rows= 10\n",
      "processing zip code: 98148\n",
      "did not converge\n",
      "did not converge\n",
      "   successfully trained model with 51 rows.\n",
      "   best r2 score for zip code= 0.8009458092781084 r2_threshold= 0.8671124512126286 test rows= 6\n",
      "processing zip code: 98105\n",
      "did not converge\n",
      "did not converge\n",
      "   successfully trained model with 205 rows.\n",
      "   best r2 score for zip code= 0.8452577705636961 r2_threshold= 0.8671124512126286 test rows= 24\n",
      "processing zip code: 98042\n",
      "   successfully trained model with 494 rows.\n",
      "   best r2 score for zip code= 0.8260452155050528 r2_threshold= 0.8671124512126286 test rows= 51\n",
      "processing zip code: 98008\n",
      "   successfully trained model with 252 rows.\n",
      "   best r2 score for zip code= 0.9749112428958562 r2_threshold= 0.8671124512126286 test rows= 31\n",
      "*** found better model for zip code 98008 !\n",
      "processing zip code: 98059\n",
      "   successfully trained model with 425 rows.\n",
      "   best r2 score for zip code= 0.9713123548507138 r2_threshold= 0.8671124512126286 test rows= 43\n",
      "*** found better model for zip code 98059 !\n",
      "processing zip code: 98122\n",
      "   successfully trained model with 265 rows.\n",
      "   best r2 score for zip code= 0.7858610676216545 r2_threshold= 0.8671124512126286 test rows= 24\n",
      "processing zip code: 98144\n",
      "did not converge\n",
      "did not converge\n",
      "   successfully trained model with 311 rows.\n",
      "   best r2 score for zip code= 0.8748611525104011 r2_threshold= 0.8671124512126286 test rows= 30\n",
      "*** found better model for zip code 98144 !\n",
      "processing zip code: 98004\n",
      "did not converge\n",
      "did not converge\n",
      "   successfully trained model with 295 rows.\n",
      "   best r2 score for zip code= 0.8203762832444619 r2_threshold= 0.8671124512126286 test rows= 21\n",
      "processing zip code: 98005\n",
      "   successfully trained model with 154 rows.\n",
      "   best r2 score for zip code= 0.32773979885727245 r2_threshold= 0.8671124512126286 test rows= 14\n",
      "processing zip code: 98034\n",
      "   successfully trained model with 483 rows.\n",
      "   best r2 score for zip code= 0.926682867872612 r2_threshold= 0.8671124512126286 test rows= 62\n",
      "*** found better model for zip code 98034 !\n",
      "processing zip code: 98075\n",
      "   successfully trained model with 325 rows.\n",
      "   best r2 score for zip code= 0.8280213799225062 r2_threshold= 0.8671124512126286 test rows= 34\n",
      "processing zip code: 98116\n",
      "   successfully trained model with 290 rows.\n",
      "   best r2 score for zip code= 0.9059287330790636 r2_threshold= 0.8671124512126286 test rows= 38\n",
      "*** found better model for zip code 98116 !\n",
      "processing zip code: 98010\n",
      "did not converge\n",
      "   successfully trained model with 84 rows.\n",
      "   best r2 score for zip code= 0.6312347339428432 r2_threshold= 0.8671124512126286 test rows= 16\n",
      "processing zip code: 98118\n"
     ]
    },
    {
     "name": "stdout",
     "output_type": "stream",
     "text": [
      "   successfully trained model with 448 rows.\n",
      "   best r2 score for zip code= 0.618310792605741 r2_threshold= 0.8671124512126286 test rows= 57\n",
      "processing zip code: 98199\n",
      "did not converge\n",
      "did not converge\n",
      "   successfully trained model with 276 rows.\n",
      "   best r2 score for zip code= 0.7739271049957672 r2_threshold= 0.8671124512126286 test rows= 40\n",
      "processing zip code: 98032\n",
      "did not converge\n",
      "   successfully trained model with 116 rows.\n",
      "   best r2 score for zip code= 0.5045674310154342 r2_threshold= 0.8671124512126286 test rows= 8\n",
      "processing zip code: 98102\n",
      "did not converge\n",
      "did not converge\n",
      "did not converge\n",
      "--> failed to train/test model for n_splines= 10\n",
      "--> failed to train/test model for n_splines= 11\n",
      "--> failed to train/test model for n_splines= 12\n",
      "--> failed to train/test model for n_splines= 13\n",
      "--> failed to train/test model for n_splines= 14\n",
      "   successfully trained model with 99 rows.\n",
      "   best r2 score for zip code= 0.9926965463818912 r2_threshold= 0.8671124512126286 test rows= 5\n",
      "*** found better model for zip code 98102 !\n",
      "processing zip code: 98077\n",
      "   successfully trained model with 175 rows.\n",
      "   best r2 score for zip code= 0.8352571678626738 r2_threshold= 0.8671124512126286 test rows= 23\n",
      "processing zip code: 98198\n",
      "   successfully trained model with 252 rows.\n",
      "   best r2 score for zip code= 0.6049635818678011 r2_threshold= 0.8671124512126286 test rows= 26\n",
      "processing zip code: 98108\n",
      "   successfully trained model with 166 rows.\n",
      "   best r2 score for zip code= 0.5134019195136423 r2_threshold= 0.8671124512126286 test rows= 20\n",
      "processing zip code: 98168\n",
      "did not converge\n",
      "   successfully trained model with 234 rows.\n",
      "   best r2 score for zip code= 0.01675568819067841 r2_threshold= 0.8671124512126286 test rows= 34\n",
      "processing zip code: 98177\n",
      "did not converge\n",
      "did not converge\n",
      "   successfully trained model with 230 rows.\n",
      "   best r2 score for zip code= 0.885432127976633 r2_threshold= 0.8671124512126286 test rows= 24\n",
      "*** found better model for zip code 98177 !\n",
      "processing zip code: 98029\n",
      "did not converge\n",
      "   successfully trained model with 284 rows.\n",
      "   best r2 score for zip code= 0.764190790510556 r2_threshold= 0.8671124512126286 test rows= 37\n",
      "processing zip code: 98006\n",
      "   successfully trained model with 444 rows.\n",
      "   best r2 score for zip code= 0.8512980841636226 r2_threshold= 0.8671124512126286 test rows= 53\n",
      "processing zip code: 98109\n",
      "did not converge\n",
      "did not converge\n",
      "did not converge\n",
      "did not converge\n",
      "did not converge\n",
      "   successfully trained model with 99 rows.\n",
      "   best r2 score for zip code= 0.8857618626182291 r2_threshold= 0.8671124512126286 test rows= 10\n",
      "*** found better model for zip code 98109 !\n",
      "processing zip code: 98022\n",
      "   successfully trained model with 203 rows.\n",
      "   best r2 score for zip code= 0.5020065064265056 r2_threshold= 0.8671124512126286 test rows= 28\n",
      "processing zip code: 98033\n",
      "   successfully trained model with 384 rows.\n",
      "   best r2 score for zip code= 0.9094570572147241 r2_threshold= 0.8671124512126286 test rows= 48\n",
      "*** found better model for zip code 98033 !\n",
      "processing zip code: 98155\n",
      "   successfully trained model with 405 rows.\n",
      "   best r2 score for zip code= 0.6251449242902294 r2_threshold= 0.8671124512126286 test rows= 40\n",
      "processing zip code: 98024\n",
      "did not converge\n",
      "did not converge\n",
      "did not converge\n",
      "did not converge\n",
      "did not converge\n",
      "did not converge\n",
      "did not converge\n",
      "did not converge\n",
      "   successfully trained model with 70 rows.\n",
      "   best r2 score for zip code= 0.9805340911212227 r2_threshold= 0.8671124512126286 test rows= 8\n",
      "*** found better model for zip code 98024 !\n",
      "processing zip code: 98011\n",
      "   successfully trained model with 175 rows.\n",
      "   best r2 score for zip code= 0.7979961080685996 r2_threshold= 0.8671124512126286 test rows= 19\n",
      "processing zip code: 98031\n",
      "   successfully trained model with 247 rows.\n",
      "   best r2 score for zip code= 0.6638313121428077 r2_threshold= 0.8671124512126286 test rows= 26\n",
      "processing zip code: 98106\n",
      "   successfully trained model with 308 rows.\n",
      "   best r2 score for zip code= 0.7892166867742956 r2_threshold= 0.8671124512126286 test rows= 27\n",
      "processing zip code: 98072\n",
      "   successfully trained model with 242 rows.\n",
      "   best r2 score for zip code= 0.8044832518049614 r2_threshold= 0.8671124512126286 test rows= 29\n",
      "processing zip code: 98188\n",
      "   successfully trained model with 124 rows.\n",
      "   best r2 score for zip code= 0.6983532057887799 r2_threshold= 0.8671124512126286 test rows= 12\n",
      "processing zip code: 98065\n",
      "did not converge\n",
      "did not converge\n",
      "did not converge\n",
      "did not converge\n",
      "   successfully trained model with 224 rows.\n",
      "   best r2 score for zip code= 0.8979675028977863 r2_threshold= 0.8671124512126286 test rows= 22\n",
      "*** found better model for zip code 98065 !\n",
      "processing zip code: 98014\n",
      "did not converge\n",
      "did not converge\n",
      "did not converge\n",
      "did not converge\n",
      "did not converge\n",
      "did not converge\n",
      "did not converge\n",
      "   successfully trained model with 97 rows.\n",
      "   best r2 score for zip code= 0.628678742457589 r2_threshold= 0.8671124512126286 test rows= 13\n",
      "processing zip code: 98055\n",
      "   successfully trained model with 244 rows.\n",
      "   best r2 score for zip code= 0.5944141424931242 r2_threshold= 0.8671124512126286 test rows= 24\n",
      "processing zip code: 98039\n",
      "did not converge\n",
      "   successfully trained model with 48 rows.\n",
      "   best r2 score for zip code= 0.9794379882426693 r2_threshold= 0.8671124512126286 test rows= 2\n",
      "*** found better model for zip code 98039 !\n",
      "Found 23 models !\n"
     ]
    }
   ],
   "source": [
    "r2_threshold = 0.8671124512126286\n",
    "better_count = 0\n",
    "n_splines = 6\n",
    "\n",
    "for zipcode in df.zipcode.unique().tolist():\n",
    "    print(\"processing zip code:\", zipcode)\n",
    "    \n",
    "    zip_best_r2 = None\n",
    "    best_nsplines = -1\n",
    "    \n",
    "    for n_splines in range(4, 15):\n",
    "        try:\n",
    "           # train the model for the zipcode\n",
    "           train_idx = X_train[:, 10] == zipcode\n",
    "           zip_gam=GAM(n_splines=n_splines, \n",
    "                       terms=s(2)+s(3)+s(4)+s(5)+s(6)+s(7)+s(8)+s(9)+s(10)+te(0,1)+te(2,9),\n",
    "                       distribution = 'gamma', link='log').fit(X_train[train_idx],y_train[train_idx])\n",
    "    \n",
    "           # test the trained model for zip code and check if it is better\n",
    "           test_idx = X_test[:, 10] == zipcode\n",
    "           y_pred = zip_gam.predict(X_test[test_idx])\n",
    "           zip_r2_score = r2_score(y_test[test_idx], y_pred)\n",
    "        \n",
    "           if zip_best_r2 is None or zip_r2_score > zip_best_r2:\n",
    "              best_nsplines = n_splines\n",
    "              zip_best_r2 = zip_r2_score\n",
    "        except:\n",
    "            print(\"--> failed to train/test model for n_splines=\", n_splines)\n",
    "            continue\n",
    "    \n",
    "    print(\"   successfully trained model with\", len(X_train[train_idx]), \"rows.\")        \n",
    "    print(\"   best r2 score for zip code=\", zip_best_r2, \\\n",
    "          \"r2_threshold=\", r2_threshold, \\\n",
    "          \"test rows=\", len(X_test[test_idx]))\n",
    "        \n",
    "    # if the best zip code r2 score is better than threshold save the model\n",
    "    if zip_best_r2 > r2_threshold:\n",
    "       train_idx = X_train[:, 10] == zipcode\n",
    "       zip_gam = GAM(n_splines=best_nsplines, \n",
    "                     terms=s(2)+s(3)+s(4)+s(5)+s(6)+s(7)+s(8)+s(9)+s(10)+te(0,1)+te(2,9),\n",
    "                     distribution = 'gamma', link='log').fit(X_train[train_idx],y_train[train_idx])\n",
    "       model_dict[zipcode] = zip_gam\n",
    "       print(\"*** found better model for zip code\", zipcode, \"!\")\n",
    "       better_count += 1           \n",
    "\n",
    "print(\"Found\", better_count, \"models !\")"
   ]
  },
  {
   "cell_type": "markdown",
   "metadata": {},
   "source": [
    "# Calculate R^2 with Improved Models\n",
    "\n",
    "The first cell displays the R^2 performance on the test data set (0.87). The next cell then runs the improved models and stores the result in `y_pred`. After running the improved models, it prints the test performance metrics to compare the results (R^2 = 0.902)."
   ]
  },
  {
   "cell_type": "code",
   "execution_count": 16,
   "metadata": {},
   "outputs": [
    {
     "name": "stdout",
     "output_type": "stream",
     "text": [
      "R^2: 0.8749187619624116\n",
      "MAE: 65954.74653300311\n",
      "RMSE: 120143.50873393411\n"
     ]
    }
   ],
   "source": [
    "y_pred = gam.predict(X_test)\n",
    "\n",
    "print(\"R^2:\", r2_score(y_test, y_pred))\n",
    "print(\"MAE:\", mean_absolute_error(y_test, y_pred))\n",
    "print(\"RMSE:\", np.sqrt(mean_squared_error(y_test, y_pred)))"
   ]
  },
  {
   "cell_type": "code",
   "execution_count": 17,
   "metadata": {},
   "outputs": [
    {
     "name": "stdout",
     "output_type": "stream",
     "text": [
      "Improving scores for zipcode 98053\n",
      "Improving scores for zipcode 98115\n",
      "Improving scores for zipcode 98126\n",
      "Improving scores for zipcode 98019\n",
      "Improving scores for zipcode 98092\n",
      "Improving scores for zipcode 98119\n",
      "Improving scores for zipcode 98112\n",
      "Improving scores for zipcode 98052\n",
      "Improving scores for zipcode 98027\n",
      "Improving scores for zipcode 98058\n",
      "Improving scores for zipcode 98056\n",
      "Improving scores for zipcode 98008\n",
      "Improving scores for zipcode 98059\n",
      "Improving scores for zipcode 98144\n",
      "Improving scores for zipcode 98034\n",
      "Improving scores for zipcode 98116\n",
      "Improving scores for zipcode 98102\n",
      "Improving scores for zipcode 98177\n",
      "Improving scores for zipcode 98109\n",
      "Improving scores for zipcode 98033\n",
      "Improving scores for zipcode 98024\n",
      "Improving scores for zipcode 98065\n",
      "Improving scores for zipcode 98039\n"
     ]
    }
   ],
   "source": [
    "for zipcode in model_dict.keys():\n",
    "    zip_gam_model = model_dict[zipcode]\n",
    "    if zip_gam_model is not None:\n",
    "        print(\"Improving scores for zipcode\", zipcode)\n",
    "        test_idx = X_test[:, 10] == zipcode\n",
    "        y_pred[test_idx] = zip_gam_model.predict(X_test[test_idx])"
   ]
  },
  {
   "cell_type": "code",
   "execution_count": 18,
   "metadata": {},
   "outputs": [
    {
     "name": "stdout",
     "output_type": "stream",
     "text": [
      "R^2: 0.9021107354161303\n",
      "MAE: 61986.37763490695\n",
      "RMSE: 106284.94654681937\n"
     ]
    }
   ],
   "source": [
    "print(\"R^2:\", r2_score(y_test, y_pred))\n",
    "print(\"MAE:\", mean_absolute_error(y_test, y_pred))\n",
    "print(\"RMSE:\", np.sqrt(mean_squared_error(y_test, y_pred)))"
   ]
  },
  {
   "cell_type": "markdown",
   "metadata": {},
   "source": [
    "# Refine General Model\n",
    "\n",
    "By removing the zip codes for which we have better models from the general GAM model, we can reduce the variance further in the general GAM model. The cell below identifies which ZIP coes to remove. It then creates a new set of variables from `X_train` and `y_train`, and removes the zip code entries for those. You can see that it removes around 6.5k entries from the training set (around one third of the data). It then basically rerun the calculations to see what overall improvement we get. The R^2 goes up slightly from 90.2 to 90.5.\n"
   ]
  },
  {
   "cell_type": "code",
   "execution_count": 19,
   "metadata": {},
   "outputs": [
    {
     "name": "stdout",
     "output_type": "stream",
     "text": [
      "[98053, 98115, 98126, 98019, 98092, 98119, 98112, 98052, 98027, 98058, 98056, 98008, 98059, 98144, 98034, 98116, 98102, 98177, 98109, 98033, 98024, 98065, 98039] 23\n"
     ]
    }
   ],
   "source": [
    "zipcodes_to_remove = []\n",
    "\n",
    "for zipcode in model_dict.keys():\n",
    "    if model_dict[zipcode] is not None:\n",
    "        zipcodes_to_remove.append(zipcode)\n",
    "\n",
    "print(zipcodes_to_remove, len(zipcodes_to_remove))"
   ]
  },
  {
   "cell_type": "code",
   "execution_count": 20,
   "metadata": {},
   "outputs": [
    {
     "name": "stdout",
     "output_type": "stream",
     "text": [
      "X_train_minus.shape= (19110, 11) len(y_train_minus)= 19110\n"
     ]
    }
   ],
   "source": [
    "X_train_minus = X_train\n",
    "y_train_minus = y_train\n",
    "print(\"X_train_minus.shape=\", X_train_minus.shape, \"len(y_train_minus)=\", len(y_train_minus))"
   ]
  },
  {
   "cell_type": "code",
   "execution_count": 21,
   "metadata": {},
   "outputs": [
    {
     "name": "stdout",
     "output_type": "stream",
     "text": [
      "X_train_minus.shape= (12458, 11) len(y_train_minus)= 12458\n"
     ]
    }
   ],
   "source": [
    "for zipcode in zipcodes_to_remove:\n",
    "    train_idx = X_train_minus[:, 10] == zipcode\n",
    "    X_train_minus = X_train_minus[~train_idx]\n",
    "    y_train_minus = y_train_minus[~train_idx]\n",
    "\n",
    "print(\"X_train_minus.shape=\", X_train_minus.shape, \"len(y_train_minus)=\", len(y_train_minus))"
   ]
  },
  {
   "cell_type": "code",
   "execution_count": 22,
   "metadata": {},
   "outputs": [],
   "source": [
    "gam=GAM(n_splines=40, \n",
    "        terms=s(2)+s(3)+s(4)+s(5)+s(6)+s(7)+s(8)+s(9)+s(10)+te(0,1)+te(2,9),\n",
    "        distribution = 'gamma', link='log').fit(X_train_minus,y_train_minus)"
   ]
  },
  {
   "cell_type": "code",
   "execution_count": 23,
   "metadata": {},
   "outputs": [
    {
     "name": "stdout",
     "output_type": "stream",
     "text": [
      "R^2: 0.8483618613751913\n",
      "MAE: 73205.91809435622\n",
      "RMSE: 132284.3439892027\n"
     ]
    }
   ],
   "source": [
    "y_pred = gam.predict(X_test)\n",
    "\n",
    "print(\"R^2:\", r2_score(y_test, y_pred))\n",
    "print(\"MAE:\", mean_absolute_error(y_test, y_pred))\n",
    "print(\"RMSE:\", np.sqrt(mean_squared_error(y_test, y_pred)))"
   ]
  },
  {
   "cell_type": "code",
   "execution_count": 24,
   "metadata": {},
   "outputs": [
    {
     "name": "stdout",
     "output_type": "stream",
     "text": [
      "Improving scores for zipcode 98053\n",
      "Improving scores for zipcode 98115\n",
      "Improving scores for zipcode 98126\n",
      "Improving scores for zipcode 98019\n",
      "Improving scores for zipcode 98092\n",
      "Improving scores for zipcode 98119\n",
      "Improving scores for zipcode 98112\n",
      "Improving scores for zipcode 98052\n",
      "Improving scores for zipcode 98027\n",
      "Improving scores for zipcode 98058\n",
      "Improving scores for zipcode 98056\n",
      "Improving scores for zipcode 98008\n",
      "Improving scores for zipcode 98059\n",
      "Improving scores for zipcode 98144\n",
      "Improving scores for zipcode 98034\n",
      "Improving scores for zipcode 98116\n",
      "Improving scores for zipcode 98102\n",
      "Improving scores for zipcode 98177\n",
      "Improving scores for zipcode 98109\n",
      "Improving scores for zipcode 98033\n",
      "Improving scores for zipcode 98024\n",
      "Improving scores for zipcode 98065\n",
      "Improving scores for zipcode 98039\n"
     ]
    }
   ],
   "source": [
    "for zipcode in model_dict.keys():\n",
    "    zip_gam_model = model_dict[zipcode]\n",
    "    if zip_gam_model is not None:\n",
    "        print(\"Improving scores for zipcode\", zipcode)\n",
    "        test_idx = X_test[:, 10] == zipcode\n",
    "        y_pred[test_idx] = zip_gam_model.predict(X_test[test_idx])"
   ]
  },
  {
   "cell_type": "code",
   "execution_count": 25,
   "metadata": {},
   "outputs": [
    {
     "name": "stdout",
     "output_type": "stream",
     "text": [
      "R^2: 0.9049052318250095\n",
      "MAE: 61674.330981715175\n",
      "RMSE: 104756.87574006237\n"
     ]
    }
   ],
   "source": [
    "print(\"R^2:\", r2_score(y_test, y_pred))\n",
    "print(\"MAE:\", mean_absolute_error(y_test, y_pred))\n",
    "print(\"RMSE:\", np.sqrt(mean_squared_error(y_test, y_pred)))"
   ]
  },
  {
   "cell_type": "code",
   "execution_count": 26,
   "metadata": {},
   "outputs": [],
   "source": [
    "# maximum achieved w/ s(2)+s(3)+s(4)+s(5)+s(6)+s(7)+s(8)+s(9)+s(10)+te(0,1)+te(2,9): .8988\n",
    "# leave out s(10) for zip code models : 0.8945\n",
    "# increase splines from 25 to 40 for default model: 0.9049"
   ]
  }
 ],
 "metadata": {
  "kernelspec": {
   "display_name": "Python 3",
   "language": "python",
   "name": "python3"
  },
  "language_info": {
   "codemirror_mode": {
    "name": "ipython",
    "version": 3
   },
   "file_extension": ".py",
   "mimetype": "text/x-python",
   "name": "python",
   "nbconvert_exporter": "python",
   "pygments_lexer": "ipython3",
   "version": "3.7.5"
  }
 },
 "nbformat": 4,
 "nbformat_minor": 2
}
